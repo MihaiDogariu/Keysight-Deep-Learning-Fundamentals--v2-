{
 "nbformat": 4,
 "nbformat_minor": 0,
 "metadata": {
  "colab": {
   "provenance": []
  },
  "kernelspec": {
   "name": "python3",
   "display_name": "Python 3 (ipykernel)",
   "language": "python"
  },
  "language_info": {
   "name": "python"
  }
 },
 "cells": [
  {
   "cell_type": "markdown",
   "source": [
    "# Basic neural network learning\n",
    "\n",
    "This notebook introduces the backpropagation algorithm on a simple task, namely classifying iris flowers based on some of their characteristics. We also point out the importance of the bias term in neural nets by leaving it out for this example and observing its influence on the final outcome.\n"
   ],
   "metadata": {
    "id": "ew31qoz2SiNL"
   }
  },
  {
   "cell_type": "code",
   "source": [
    "import numpy as np\n",
    "import torch\n",
    "import pandas as pd\n",
    "from sklearn.datasets import load_iris\n",
    "from sklearn.model_selection import train_test_split\n",
    "import matplotlib.pyplot as plt"
   ],
   "metadata": {
    "id": "3r7MKm0XTp5q",
    "ExecuteTime": {
     "end_time": "2025-03-25T00:35:00.212393Z",
     "start_time": "2025-03-25T00:35:00.196385Z"
    }
   },
   "outputs": [],
   "execution_count": 64
  },
  {
   "cell_type": "markdown",
   "source": [
    "First, we need to load the data. The Iris dataset is a very popular one for machine learning classifications. It contains 150 entries, corresponding to 3 classes. Each of the 3 iris types has 50 occurences in the dataset. For each sample we have 4 features available: sepal length, sepal width, petal length, petal width."
   ],
   "metadata": {
    "id": "G5RZlJiL8kJo"
   }
  },
  {
   "cell_type": "code",
   "source": [
    "# load the \"Iris\" dataset: https://archive.ics.uci.edu/ml/datasets/iris\n",
    "data = load_iris()\n",
    "# Extract data and labels from the dataset\n",
    "X=data.data\n",
    "y=data.target\n",
    "# Split the data in a 80-20 ratio for train-test, respectively\n",
    "X_train, X_test, y_train, y_test = train_test_split(X, y, test_size=20, random_state=4)"
   ],
   "metadata": {
    "id": "Iv-L3S6bTtRr",
    "ExecuteTime": {
     "end_time": "2025-03-25T00:35:00.244168Z",
     "start_time": "2025-03-25T00:35:00.221221Z"
    }
   },
   "outputs": [],
   "execution_count": 65
  },
  {
   "cell_type": "code",
   "source": [
    "# Set the hyperparameters\n",
    "iterations = 5000\n",
    "N = y_train.size\n",
    "\n",
    "# Setting the network's dimensions\n",
    "input_size = 4 # corresponding to the 4 input features\n",
    "hidden_size = 3\n",
    "output_size = 3 # corresponding to the 3 target classes\n",
    "\n",
    "# We will store the results in a pd.DataFrame for easier post-processing\n",
    "results = pd.DataFrame(columns=[\"mse\", \"accuracy\"])"
   ],
   "metadata": {
    "id": "gTHOWhTYT0Cb",
    "ExecuteTime": {
     "end_time": "2025-03-25T00:35:00.323179Z",
     "start_time": "2025-03-25T00:35:00.307538Z"
    }
   },
   "outputs": [],
   "execution_count": 66
  },
  {
   "cell_type": "markdown",
   "source": "Defining auxiliary functions.",
   "metadata": {
    "id": "VgNlClUfokLa"
   }
  },
  {
   "cell_type": "code",
   "source": [
    "# Defining accuracy\n",
    "def accuracy(y_pred, y_true):\n",
    "  acc = (y_pred.argmax(axis=1) == y_true.argmax(axis=1)).type(torch.FloatTensor)\n",
    "  return acc.mean()\n",
    "\n",
    "# Defining one-hot encoding\n",
    "def one_hot(x):\n",
    "  result = np.zeros((x.size, x.max()+1))\n",
    "  result[np.arange(x.size), x] = 1\n",
    "  return result"
   ],
   "metadata": {
    "id": "iRrrdqXpUA-o",
    "ExecuteTime": {
     "end_time": "2025-03-25T00:35:00.405808Z",
     "start_time": "2025-03-25T00:35:00.389959Z"
    }
   },
   "outputs": [],
   "execution_count": 67
  },
  {
   "metadata": {},
   "cell_type": "markdown",
   "source": "Defining the neural network model."
  },
  {
   "metadata": {
    "ExecuteTime": {
     "end_time": "2025-03-25T00:35:00.484752Z",
     "start_time": "2025-03-25T00:35:00.470584Z"
    }
   },
   "cell_type": "code",
   "source": [
    "torch_model = torch.nn.Sequential(\n",
    "    torch.nn.Linear(input_size, hidden_size),\n",
    "    torch.nn.Sigmoid(),\n",
    "    torch.nn.Linear(hidden_size, output_size),\n",
    "    torch.nn.Sigmoid()\n",
    ")"
   ],
   "outputs": [],
   "execution_count": 68
  },
  {
   "metadata": {},
   "cell_type": "markdown",
   "source": "Defining neural network training parameters."
  },
  {
   "metadata": {
    "ExecuteTime": {
     "end_time": "2025-03-25T00:35:00.574841Z",
     "start_time": "2025-03-25T00:35:00.552455Z"
    }
   },
   "cell_type": "code",
   "source": [
    "loss_func = torch.nn.MSELoss() #Choosing mean square error as loss metric\n",
    "learning_rate = 0.01\n",
    "optimizer = torch.optim.SGD(torch_model.parameters(), lr=learning_rate)"
   ],
   "outputs": [],
   "execution_count": 69
  },
  {
   "cell_type": "markdown",
   "source": [
    "Training the model."
   ],
   "metadata": {
    "id": "l0R79MUXoz4c"
   }
  },
  {
   "metadata": {
    "ExecuteTime": {
     "end_time": "2025-03-25T00:35:04.336102Z",
     "start_time": "2025-03-25T00:35:00.638408Z"
    }
   },
   "cell_type": "code",
   "source": [
    "# Transform the labels into one-hot encoded vectors\n",
    "one_hot_y_train = torch.from_numpy(one_hot(y_train)).type(torch.FloatTensor)\n",
    "one_hot_y_test = torch.from_numpy(one_hot(y_test)).type(torch.FloatTensor)\n",
    "\n",
    "mse_list = []\n",
    "acc_list = []\n",
    "\n",
    "for itr in range(iterations):\n",
    "  # Forward propagate the input through the first layer\n",
    "  out = torch_model(torch.from_numpy(X_train).type(torch.FloatTensor))\n",
    "  loss = loss_func(out, one_hot_y_train)\n",
    "  acc = accuracy(out, one_hot_y_train)\n",
    "\n",
    "  mse_list.append(loss.detach().numpy())\n",
    "  acc_list.append(acc)\n",
    "\n",
    "  loss.backward()\n",
    "  optimizer.step()"
   ],
   "outputs": [],
   "execution_count": 70
  },
  {
   "cell_type": "markdown",
   "source": [
    "Test the model by running forward propagation on the test dataset."
   ],
   "metadata": {
    "id": "ELVi87JooyUb"
   }
  },
  {
   "cell_type": "code",
   "source": [
    "# Rulam modelul antrenat pe baza de date de test\n",
    "out_test = torch_model(torch.from_numpy(X_test).type(torch.FloatTensor))\n",
    "\n",
    "acc = accuracy(out_test, one_hot_y_test)\n",
    "plt.plot(np.arange(iterations), acc_list)\n",
    "plt.plot(np.arange(iterations), mse_list)\n",
    "plt.show()\n",
    "print(\"Accuracy: {}\".format(acc))"
   ],
   "metadata": {
    "id": "KLXugNjbozL5",
    "ExecuteTime": {
     "end_time": "2025-03-25T00:35:04.603782Z",
     "start_time": "2025-03-25T00:35:04.412769Z"
    }
   },
   "outputs": [
    {
     "data": {
      "text/plain": [
       "<Figure size 640x480 with 1 Axes>"
      ],
      "image/png": "[encoded data removed]"
     },
     "metadata": {},
     "output_type": "display_data"
    },
    {
     "name": "stdout",
     "output_type": "stream",
     "text": [
      "Accuracy: 0.949999988079071\n"
     ]
    }
   ],
   "execution_count": 71
  }
 ]
}
