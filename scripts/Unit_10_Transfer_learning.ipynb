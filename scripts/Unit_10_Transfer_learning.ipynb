{
  "nbformat": 4,
  "nbformat_minor": 0,
  "metadata": {
    "colab": {
      "provenance": [],
      "authorship_tag": "ABX9TyPDMXp+ruK+Oc4gM1K1+CCS",
      "include_colab_link": true
    },
    "kernelspec": {
      "name": "python3",
      "display_name": "Python 3"
    },
    "language_info": {
      "name": "python"
    }
  },
  "cells": [
    {
      "cell_type": "markdown",
      "metadata": {
        "id": "view-in-github",
        "colab_type": "text"
      },
      "source": [
        "<a href=\"https://colab.research.google.com/github/MihaiDogariu/Keysight-Deep-Learning-Fundamentals--v2-/blob/main/scripts/Unit_10_Transfer_learning.ipynb\" target=\"_parent\"><img src=\"https://colab.research.google.com/assets/colab-badge.svg\" alt=\"Open In Colab\"/></a>"
      ]
    },
    {
      "cell_type": "markdown",
      "source": [
        "# Transfer Learning Example"
      ],
      "metadata": {
        "id": "4kGdUUHZNIkg"
      }
    },
    {
      "cell_type": "code",
      "source": [
        "import torch\n",
        "import copy\n",
        "import torch.nn as nn\n",
        "import torch.optim as optim\n",
        "import torchvision\n",
        "from torchvision import models, transforms\n",
        "import zipfile"
      ],
      "metadata": {
        "id": "t_90ZJIFDn96"
      },
      "execution_count": null,
      "outputs": []
    },
    {
      "cell_type": "code",
      "source": [
        "!wget https://download.pytorch.org/tutorial/hymenoptera_data.zip"
      ],
      "metadata": {
        "id": "AjmTqDsxDqG3"
      },
      "execution_count": null,
      "outputs": []
    },
    {
      "cell_type": "code",
      "source": [
        "with zipfile.ZipFile('hymenoptera_data.zip', 'r') as zip_ref:\n",
        "    zip_ref.extractall()"
      ],
      "metadata": {
        "id": "IBJ0o20u5DbZ"
      },
      "execution_count": null,
      "outputs": []
    },
    {
      "cell_type": "code",
      "source": [
        "train_transforms = transforms.Compose([\n",
        "        transforms.RandomResizedCrop(224),\n",
        "        transforms.RandomHorizontalFlip(),\n",
        "        transforms.ToTensor(),\n",
        "        transforms.Normalize([0.485, 0.456, 0.406], [0.229, 0.224, 0.225])])\n",
        "val_transforms = transforms.Compose([\n",
        "        transforms.Resize(256),\n",
        "        transforms.CenterCrop(224),\n",
        "        transforms.ToTensor(),\n",
        "        transforms.Normalize([0.485, 0.456, 0.406], [0.229, 0.224, 0.225])])"
      ],
      "metadata": {
        "id": "6a6ETCzqP7Aw"
      },
      "execution_count": null,
      "outputs": []
    },
    {
      "cell_type": "code",
      "source": [
        "class HymenopteraDataset(torch.utils.data.Dataset):\n",
        "    def __init__(self, dir_path, transform=None):\n",
        "        self.dir_path = dir_path\n",
        "        self.img_folder = torchvision.datasets.ImageFolder(dir_path, transform=transform)\n",
        "        # torchvision.datasets.ImageFolder processes datasets that have the following structure:\n",
        "        #\n",
        "        # directory/\n",
        "        # ├── class_x\n",
        "        # │   ├── xxx.ext\n",
        "        # │   ├── xxy.ext\n",
        "        # │   └── ...\n",
        "        # │   └── xxz.ext\n",
        "        # └── class_y\n",
        "        #     ├── 123.ext\n",
        "        #     ├── nsdf3.ext\n",
        "        #     └── ...\n",
        "        #     └── asd932_.ext\n",
        "\n",
        "    def __len__(self):\n",
        "        return len(self.img_folder)\n",
        "\n",
        "    def __getitem__(self, idx):\n",
        "        return self.img_folder[idx]"
      ],
      "metadata": {
        "id": "StrmpLVVDwzr"
      },
      "execution_count": null,
      "outputs": []
    },
    {
      "cell_type": "code",
      "source": [
        "train_dataset = HymenopteraDataset('hymenoptera_data/train', transform=train_transforms)\n",
        "val_dataset = HymenopteraDataset('hymenoptera_data/val', transform=val_transforms)\n",
        "\n",
        "# Define data loaders\n",
        "train_loader = torch.utils.data.DataLoader(train_dataset, batch_size=4, shuffle=True)\n",
        "val_loader = torch.utils.data.DataLoader(val_dataset,  batch_size=4, shuffle=False)\n",
        "\n",
        "# Move the model to the GPU if available\n",
        "device = torch.accelerator.current_accelerator().type if torch.accelerator.is_available() else \"cpu\"\n",
        "print(f\"Using {device} device\")"
      ],
      "metadata": {
        "id": "D8FiWBFVFCIy"
      },
      "execution_count": null,
      "outputs": []
    },
    {
      "cell_type": "code",
      "source": [
        "# Load the pre-trained VGG19 model\n",
        "vgg19 = models.vgg19(weights=models.VGG19_Weights.DEFAULT)\n",
        "# print(vgg19)"
      ],
      "metadata": {
        "id": "oLUZa5Fj4czE"
      },
      "execution_count": null,
      "outputs": []
    },
    {
      "cell_type": "code",
      "source": [
        "# Make a deep copy of the vgg19 model in case we want to perform different changes on it\n",
        "vgg19_copy =  copy.deepcopy(vgg19)\n",
        "# print(vgg19_copy)"
      ],
      "metadata": {
        "id": "SdVovh8P_8Bx"
      },
      "execution_count": null,
      "outputs": []
    },
    {
      "cell_type": "code",
      "source": [
        "# Remove the last layer of the classifier\n",
        "vgg19_copy.classifier = torch.nn.Sequential(*list(vgg19.classifier.children())[:-1])\n",
        "# print(vgg19_copy)"
      ],
      "metadata": {
        "id": "JMOiSkIG-GHS"
      },
      "execution_count": null,
      "outputs": []
    },
    {
      "cell_type": "code",
      "source": [
        "# Create a different fully connected layer, adapted to the new classification problem and attach it to the end of the pre-trained model\n",
        "num_ftrs = vgg19_copy.classifier[3].out_features\n",
        "vgg19_copy.classifier = nn.Sequential(torch.nn.Sequential(*list(vgg19_copy.classifier.children()), nn.Linear(in_features=num_ftrs, out_features=2)))\n",
        "# print(vgg19_copy)"
      ],
      "metadata": {
        "id": "tCO251O0ucs0"
      },
      "execution_count": null,
      "outputs": []
    },
    {
      "cell_type": "code",
      "source": [
        "# Move model to device\n",
        "vgg19_copy = vgg19_copy.to(device)\n",
        "\n",
        "# Define loss function and optimizer\n",
        "criterion = nn.CrossEntropyLoss()\n",
        "optimizer = optim.SGD(vgg19_copy.parameters(), lr=0.001, momentum=0.9)\n",
        "\n",
        "# Training loop\n",
        "num_epochs = 5\n",
        "for epoch in range(num_epochs):  # loop over the dataset multiple times\n",
        "    vgg19_copy.train(True)\n",
        "    for i, (inputs, labels) in enumerate(train_loader):\n",
        "        # get the inputs and labels\n",
        "        inputs = inputs.to(device)\n",
        "        labels = labels.to(device)\n",
        "\n",
        "        # zero the parameter gradients\n",
        "        optimizer.zero_grad()\n",
        "\n",
        "        # forward + backward + optimize\n",
        "        outputs = vgg19_copy(inputs)\n",
        "        loss = criterion(outputs, labels)\n",
        "        loss.backward()\n",
        "        optimizer.step()\n",
        "\n",
        "        # Print statistics\n",
        "        print(f'Epoch: {epoch+1}, Batch: {i+1}, Loss: {loss.item()}')\n",
        "\n",
        "    # Running the model on the validation dataset\n",
        "    vgg19_copy.train(False)\n",
        "    with torch.no_grad():\n",
        "        correct = 0\n",
        "        total = 0\n",
        "        for i, (inputs, labels) in enumerate(val_loader):\n",
        "            # get the inputs and labels\n",
        "            inputs = inputs.to(device)\n",
        "            labels = labels.to(device)\n",
        "            outputs = vgg19_copy(inputs)\n",
        "            _, predicted = torch.max(outputs.data, 1)\n",
        "            total += labels.size(0)\n",
        "            correct += (predicted == labels).sum().item()\n",
        "\n",
        "        print('Accuracy: {}%'.format(100 * correct / total))\n",
        "\n",
        "print('Finished Training')"
      ],
      "metadata": {
        "id": "Vu_JbjU1uTsg"
      },
      "execution_count": null,
      "outputs": []
    },
    {
      "cell_type": "code",
      "source": [],
      "metadata": {
        "id": "oqhkCSkNwZIG"
      },
      "execution_count": null,
      "outputs": []
    }
  ]
}