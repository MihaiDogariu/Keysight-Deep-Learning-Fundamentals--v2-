{
 "nbformat": 4,
 "nbformat_minor": 0,
 "metadata": {
  "colab": {
   "provenance": [],
   "authorship_tag": "ABX9TyOdopd2WQ+9nOWuy7bR+ePJ",
   "include_colab_link": true
  },
  "kernelspec": {
   "name": "python3",
   "display_name": "Python 3 (ipykernel)",
   "language": "python"
  },
  "language_info": {
   "name": "python"
  }
 },
 "cells": [
  {
   "cell_type": "markdown",
   "metadata": {
    "id": "view-in-github",
    "colab_type": "text"
   },
   "source": [
    "<a href=\"https://colab.research.google.com/github/MihaiDogariu/Keysight-Deep-Learning-Fundamentals--v2-/blob/main/scripts/Unit_6_Convnet_example.ipynb\" target=\"_parent\"><img src=\"https://colab.research.google.com/assets/colab-badge.svg\" alt=\"Open In Colab\"/></a>"
   ]
  },
  {
   "cell_type": "code",
   "source": [
    "import torch\n",
    "import torch.nn as nn\n",
    "import torch.optim as optim\n",
    "import torchvision\n",
    "import torchvision.transforms as transforms\n",
    "import matplotlib.pyplot as plt\n",
    "import numpy as np\n",
    "import random"
   ],
   "metadata": {
    "id": "puLPsQ0g3NGX",
    "ExecuteTime": {
     "end_time": "2025-04-08T07:34:48.253783Z",
     "start_time": "2025-04-08T07:34:33.799197Z"
    }
   },
   "outputs": [],
   "execution_count": 1
  },
  {
   "cell_type": "code",
   "source": [
    "# Load MNIST dataset\n",
    "transform = transforms.Compose([transforms.ToTensor(), transforms.Normalize((0.1307,), (0.3081,))])\n",
    "\n",
    "trainset = torchvision.datasets.MNIST(root='./data', train=True, download=True, transform=transform)\n",
    "testset = torchvision.datasets.MNIST(root='./data', train=False, download=True, transform=transform)\n",
    "\n",
    "trainloader = torch.utils.data.DataLoader(trainset, batch_size=64, shuffle=True)\n",
    "testloader = torch.utils.data.DataLoader(testset, batch_size=16, shuffle=True) # Smaller batch for display"
   ],
   "metadata": {
    "id": "fqUiyrTW3QGd",
    "ExecuteTime": {
     "end_time": "2025-04-08T07:36:09.685326Z",
     "start_time": "2025-04-08T07:36:09.548513Z"
    }
   },
   "outputs": [],
   "execution_count": 2
  },
  {
   "cell_type": "code",
   "source": [
    "# Define the CNN model\n",
    "class ConvNet(nn.Module):\n",
    "    def __init__(self):\n",
    "        super(ConvNet, self).__init__()\n",
    "        self.conv1 = nn.Conv2d(1, 16, kernel_size=3, padding=1)\n",
    "        self.relu1 = nn.ReLU()\n",
    "        self.pool1 = nn.MaxPool2d(kernel_size=2, stride=2)\n",
    "        self.conv2 = nn.Conv2d(16, 32, kernel_size=3, padding=1)\n",
    "        self.relu2 = nn.ReLU()\n",
    "        self.pool2 = nn.MaxPool2d(kernel_size=2, stride=2)\n",
    "        self.fc = nn.Linear(7 * 7 * 32, 10)  # Adjust input size based on image size\n",
    "\n",
    "    def forward(self, x):\n",
    "        x = self.pool1(self.relu1(self.conv1(x)))\n",
    "        x = self.pool2(self.relu2(self.conv2(x)))\n",
    "        x = x.view(-1, 7 * 7 * 32)  # Adjust input size based on image size\n",
    "        x = self.fc(x)\n",
    "        return x"
   ],
   "metadata": {
    "id": "LQ3f2QZf3OcP",
    "ExecuteTime": {
     "end_time": "2025-04-08T07:44:46.103247Z",
     "start_time": "2025-04-08T07:44:46.085517Z"
    }
   },
   "outputs": [],
   "execution_count": 3
  },
  {
   "metadata": {
    "ExecuteTime": {
     "end_time": "2025-04-08T07:46:25.335944Z",
     "start_time": "2025-04-08T07:46:23.525721Z"
    }
   },
   "cell_type": "code",
   "source": [
    "device = torch.accelerator.current_accelerator().type if torch.accelerator.is_available() else \"cpu\"\n",
    "print(f\"Using {device} device\")"
   ],
   "outputs": [
    {
     "name": "stdout",
     "output_type": "stream",
     "text": [
      "Using cuda device\n"
     ]
    }
   ],
   "execution_count": 4
  },
  {
   "cell_type": "code",
   "source": [
    "# Initialize model, loss function, and optimizer\n",
    "model = ConvNet().to(device)\n",
    "criterion = nn.CrossEntropyLoss().to(device)\n",
    "optimizer = optim.Adam(model.parameters(), lr=0.001)"
   ],
   "metadata": {
    "id": "gATaAs7D3Tsg",
    "ExecuteTime": {
     "end_time": "2025-04-08T07:48:10.774018Z",
     "start_time": "2025-04-08T07:48:08.950354Z"
    }
   },
   "outputs": [],
   "execution_count": 5
  },
  {
   "metadata": {
    "ExecuteTime": {
     "end_time": "2025-04-08T07:51:29.798332Z",
     "start_time": "2025-04-08T07:49:37.056068Z"
    }
   },
   "cell_type": "code",
   "source": [
    "# Training loop\n",
    "for epoch in range(5):  # Reduced epochs for demonstration\n",
    "    for i, data in enumerate(trainloader, 0):\n",
    "        inputs, labels = data\n",
    "\n",
    "        inputs = inputs.to(device)\n",
    "        labels = labels.to(device)\n",
    "\n",
    "        optimizer.zero_grad()\n",
    "        outputs = model(inputs)\n",
    "        loss = criterion(outputs, labels)\n",
    "        loss.backward()\n",
    "        optimizer.step()\n",
    "\n",
    "        if i % 100 == 0:\n",
    "            print(f'Epoch {epoch + 1}, Batch {i + 1}, Loss: {loss.item()}')"
   ],
   "outputs": [
    {
     "name": "stdout",
     "output_type": "stream",
     "text": [
      "Epoch 1, Batch 1, Loss: 2.3520889282226562\n",
      "Epoch 1, Batch 101, Loss: 0.1847350001335144\n",
      "Epoch 1, Batch 201, Loss: 0.14747481048107147\n",
      "Epoch 1, Batch 301, Loss: 0.16619865596294403\n",
      "Epoch 1, Batch 401, Loss: 0.03280072286725044\n",
      "Epoch 1, Batch 501, Loss: 0.04150678217411041\n",
      "Epoch 1, Batch 601, Loss: 0.05618174374103546\n",
      "Epoch 1, Batch 701, Loss: 0.021272124722599983\n",
      "Epoch 1, Batch 801, Loss: 0.16420528292655945\n",
      "Epoch 1, Batch 901, Loss: 0.0819312110543251\n",
      "Epoch 2, Batch 1, Loss: 0.14748288691043854\n",
      "Epoch 2, Batch 101, Loss: 0.04580574855208397\n",
      "Epoch 2, Batch 201, Loss: 0.051384419202804565\n",
      "Epoch 2, Batch 301, Loss: 0.01880972646176815\n",
      "Epoch 2, Batch 401, Loss: 0.054190658032894135\n",
      "Epoch 2, Batch 501, Loss: 0.17219041287899017\n",
      "Epoch 2, Batch 601, Loss: 0.02997857704758644\n",
      "Epoch 2, Batch 701, Loss: 0.010102851316332817\n",
      "Epoch 2, Batch 801, Loss: 0.1192546933889389\n",
      "Epoch 2, Batch 901, Loss: 0.06266867369413376\n",
      "Epoch 3, Batch 1, Loss: 0.031809061765670776\n",
      "Epoch 3, Batch 101, Loss: 0.01577184721827507\n",
      "Epoch 3, Batch 201, Loss: 0.06913942098617554\n",
      "Epoch 3, Batch 301, Loss: 0.014405389316380024\n",
      "Epoch 3, Batch 401, Loss: 0.059901487082242966\n",
      "Epoch 3, Batch 501, Loss: 0.0013674180954694748\n",
      "Epoch 3, Batch 601, Loss: 0.05953191593289375\n",
      "Epoch 3, Batch 701, Loss: 0.06306341290473938\n",
      "Epoch 3, Batch 801, Loss: 0.022036869078874588\n",
      "Epoch 3, Batch 901, Loss: 0.007169743534177542\n",
      "Epoch 4, Batch 1, Loss: 0.011448968201875687\n",
      "Epoch 4, Batch 101, Loss: 0.02148311957716942\n",
      "Epoch 4, Batch 201, Loss: 0.015664175152778625\n",
      "Epoch 4, Batch 301, Loss: 0.007632440887391567\n",
      "Epoch 4, Batch 401, Loss: 0.056519925594329834\n",
      "Epoch 4, Batch 501, Loss: 0.008314461447298527\n",
      "Epoch 4, Batch 601, Loss: 0.006543735042214394\n",
      "Epoch 4, Batch 701, Loss: 0.036904752254486084\n",
      "Epoch 4, Batch 801, Loss: 0.0039763255044817924\n",
      "Epoch 4, Batch 901, Loss: 0.010501268319785595\n",
      "Epoch 5, Batch 1, Loss: 0.021519489586353302\n",
      "Epoch 5, Batch 101, Loss: 0.020643169060349464\n",
      "Epoch 5, Batch 201, Loss: 0.028376655653119087\n",
      "Epoch 5, Batch 301, Loss: 0.005260879639536142\n",
      "Epoch 5, Batch 401, Loss: 0.1411334127187729\n",
      "Epoch 5, Batch 501, Loss: 0.0005416183266788721\n",
      "Epoch 5, Batch 601, Loss: 0.01595231145620346\n",
      "Epoch 5, Batch 701, Loss: 0.12386921048164368\n",
      "Epoch 5, Batch 801, Loss: 0.007419443689286709\n",
      "Epoch 5, Batch 901, Loss: 0.0007048203842714429\n"
     ]
    }
   ],
   "execution_count": 6
  },
  {
   "cell_type": "code",
   "metadata": {
    "colab": {
     "base_uri": "https://localhost:8080/",
     "height": 653
    },
    "id": "g01yn4LzcGMs",
    "outputId": "60bc4b0b-3c0a-4049-9127-726f576fb845"
   },
   "source": [
    "# Display some learned kernels\n",
    "kernels = model.conv1.weight.data.cpu().numpy()\n",
    "\n",
    "fig, axs = plt.subplots(4, 4, figsize=(8, 8))\n",
    "for i in range(16):\n",
    "    row = i // 4\n",
    "    col = i % 4\n",
    "    axs[row, col].imshow(kernels[i, 0], cmap='gray')\n",
    "    axs[row, col].axis('off')\n",
    "plt.show()"
   ],
   "outputs": [],
   "execution_count": null
  },
  {
   "metadata": {},
   "cell_type": "code",
   "source": [
    "correct = 0\n",
    "total = 0\n",
    "with torch.no_grad():\n",
    "  for data in testloader:\n",
    "      images, labels = data\n",
    "      images = images.to(device)\n",
    "      labels = labels.to(device)\n",
    "\n",
    "      outputs = model(images)\n",
    "      _, predicted = torch.max(outputs.data, 1)\n",
    "      total += labels.size(0)\n",
    "      correct += (predicted == labels).sum().item()\n",
    "\n",
    "print(\"Accuracy is {}%\".format(100 * correct / total))"
   ],
   "outputs": [],
   "execution_count": null
  },
  {
   "cell_type": "code",
   "source": [
    "# Get a random batch from the test set\n",
    "dataiter = iter(testloader)\n",
    "images, labels = next(dataiter)\n",
    "\n",
    "images = images.to(device)\n",
    "labels = labels.to(device)\n",
    "\n",
    "# Make predictions\n",
    "outputs = model(images)\n",
    "_, predicted = torch.max(outputs, 1)\n",
    "\n",
    "# Display the images with true and predicted labels\n",
    "fig, axes = plt.subplots(4, 4, figsize=(10, 10))\n",
    "for i in range(16):\n",
    "    ax = axes[i // 4, i % 4]\n",
    "    ax.imshow(images[i].squeeze().cpu().numpy(), cmap='gray')\n",
    "    ax.set_title(f\"True: {labels[i]}\\nPredicted: {predicted[i]}\")\n",
    "    ax.axis('off')\n",
    "plt.tight_layout()\n",
    "plt.show()"
   ],
   "metadata": {
    "colab": {
     "base_uri": "https://localhost:8080/",
     "height": 920
    },
    "id": "_5O51ds-3sHM",
    "outputId": "9d38f680-6c93-4b2c-f4df-28b21c4ed409"
   },
   "outputs": [],
   "execution_count": null
  }
 ]
}
