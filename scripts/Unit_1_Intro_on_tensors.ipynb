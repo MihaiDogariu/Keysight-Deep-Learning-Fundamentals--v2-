{
 "nbformat": 4,
 "nbformat_minor": 0,
 "metadata": {
  "colab": {
   "provenance": [],
   "gpuType": "T4"
  },
  "kernelspec": {
   "name": "python3",
   "display_name": "Python 3 (ipykernel)",
   "language": "python"
  },
  "language_info": {
   "name": "python"
  },
  "accelerator": "GPU"
 },
 "cells": [
  {
   "cell_type": "markdown",
   "source": [
    "## Introduction to tensors\n",
    "\n",
    "\n",
    "This notebook makes a short introduction to working with *tensors*, the fundamental object of Deep Learning frameworks, such as PyTorch or Tensorflow.\n",
    "\n",
    "Generally speaking, tensors are N-dimensional arrays, and can be considered an extension of classical NumPy arrays. The core difference between the two, is that tensors are specifically designed to be run on GPUs, making tensor operations a few orders of magnitude faster than their CPU counter-parts."
   ],
   "metadata": {
    "id": "tK1Ji0a6ll27"
   }
  },
  {
   "cell_type": "code",
   "metadata": {
    "id": "rCOO5F3rdssJ"
   },
   "source": [
    "!pip install ipython-autotime\n",
    "import torch\n",
    "import numpy as np\n",
    "\n",
    "# We will use the autotime command to get the running time of each code block and investigate the difference\n",
    "%load_ext autotime"
   ],
   "outputs": [],
   "execution_count": null
  },
  {
   "cell_type": "markdown",
   "source": [
    "First, lets create two similar N-D arrays: an np array and a tensor, of the same dimensions. We will populate them with:\n",
    "- [`np.random.rand()`](https://numpy.org/doc/stable/reference/random/generated/numpy.random.rand.html)\n",
    "- [`torch.rand()`](https://pytorch.org/docs/stable/generated/torch.rand.html)\n"
   ],
   "metadata": {
    "id": "oAQDyZ5gnEZy"
   }
  },
  {
   "cell_type": "code",
   "source": [
    "array_size = (3, 3)\n",
    "\n",
    "# 2D arrays\n",
    "array1 = np.random.rand(*array_size)\n",
    "array2 = np.random.rand(*array_size)\n",
    "\n",
    "# 2D tensors\n",
    "tensor1 = torch.rand(*array_size)\n",
    "tensor2 = torch.rand(*array_size)"
   ],
   "metadata": {
    "id": "5jrdeJwYNChF"
   },
   "outputs": [],
   "execution_count": null
  },
  {
   "cell_type": "markdown",
   "source": [
    "Let's print the data. We can also have a look at the type of data (`.dtype` attribute)"
   ],
   "metadata": {
    "id": "5SKreyb_oSQV"
   }
  },
  {
   "cell_type": "code",
   "source": [
    "print('Np array values:')\n",
    "print(array1)\n",
    "print('\\nTensor values:')\n",
    "print(tensor1)\n",
    "\n",
    "print(f'\\nNp array data type is {array1.dtype}')\n",
    "print(f'Tensor data type is {tensor1.dtype}')"
   ],
   "metadata": {
    "id": "Uhyd-KpnStuL"
   },
   "outputs": [],
   "execution_count": null
  },
  {
   "cell_type": "markdown",
   "source": [
    "Tensors, unlike np arrays, can be run on both CPU and GPU. They have an attribute, `.device` that holds this particular information. Let's print and see where the tensor resides upon default creation."
   ],
   "metadata": {
    "id": "NG3VfDkouwlJ"
   }
  },
  {
   "cell_type": "code",
   "source": [
    "print(tensor1.device)"
   ],
   "metadata": {
    "id": "NYxRfY2wrNwl"
   },
   "outputs": [],
   "execution_count": null
  },
  {
   "cell_type": "markdown",
   "source": [
    "Now let's see how fast the operations are on both types of arrays."
   ],
   "metadata": {
    "id": "gBcrIuiQvgv0"
   }
  },
  {
   "cell_type": "markdown",
   "source": [
    "First, run a multiplication operation on the np arrays with [`np.matmul()`](https://numpy.org/doc/stable/reference/generated/numpy.matmul.html#numpy-matmul):"
   ],
   "metadata": {
    "id": "7oiaC1tvv12X"
   }
  },
  {
   "cell_type": "code",
   "source": [
    "res_np = np.matmul(array1, array2)"
   ],
   "metadata": {
    "collapsed": true,
    "id": "wdU6bLhHOnwt",
    "ExecuteTime": {
     "end_time": "2025-03-24T22:28:07.520731Z",
     "start_time": "2025-03-24T22:28:06.640869Z"
    }
   },
   "outputs": [
    {
     "name": "stdout",
     "output_type": "stream",
     "text": [
      "time: 875 ms (started: 2025-03-25 00:28:06 +02:00)\n"
     ]
    }
   ],
   "execution_count": 31
  },
  {
   "cell_type": "markdown",
   "source": [
    "Then, a similar multiplication on the tensors with [`torch.matmul()`](https://pytorch.org/docs/stable/generated/torch.matmul.html#torch.matmul):"
   ],
   "metadata": {
    "id": "nS31kcjrwc34"
   }
  },
  {
   "cell_type": "code",
   "source": [
    "res_tensor = torch.matmul(tensor1, tensor2)"
   ],
   "metadata": {
    "collapsed": true,
    "id": "CoVeab8zOo-C",
    "ExecuteTime": {
     "end_time": "2025-03-24T22:28:04.637906Z",
     "start_time": "2025-03-24T22:28:04.622909Z"
    }
   },
   "outputs": [
    {
     "name": "stdout",
     "output_type": "stream",
     "text": [
      "time: 0 ns (started: 2025-03-25 00:28:04 +02:00)\n"
     ]
    }
   ],
   "execution_count": 30
  },
  {
   "cell_type": "markdown",
   "source": [
    "The difference in running time is mainly due to the different types of data contained by the np arrays and the tensors. By default, np arrays use `float64`, whereas tensors use `float32` data. We can convert the np arrays to a similar data type and re-run the same operations. We can use the `np.float32()` cast operator or the [`np.ndarray.astype()`](https://numpy.org/doc/stable/reference/generated/numpy.ndarray.astype.html) function."
   ],
   "metadata": {
    "id": "opkKjtfOxLG8"
   }
  },
  {
   "cell_type": "code",
   "source": [
    "array1_float32 = array1.astype(np.float32)\n",
    "array2_float32 = array2.astype(np.float32)"
   ],
   "metadata": {
    "id": "uAKX9WOJkzRH"
   },
   "outputs": [],
   "execution_count": null
  },
  {
   "cell_type": "code",
   "source": [
    "res_np_float32 = np.matmul(array1_float32, array2_float32)"
   ],
   "metadata": {
    "id": "bc325qizlZ_Q"
   },
   "outputs": [],
   "execution_count": null
  },
  {
   "cell_type": "code",
   "source": [
    "res_tensor = torch.matmul(tensor1, tensor2)"
   ],
   "metadata": {
    "id": "gPauDniX0yTd"
   },
   "outputs": [],
   "execution_count": null
  },
  {
   "cell_type": "markdown",
   "source": [
    "Now the two operations run in a similar time span. So let's see the GPU speedup (if any). In order to do so, we must first check if our system has a dedicated GPU with CUDA support. We can check with `torch.cuda.is_available()`."
   ],
   "metadata": {
    "id": "fSaj92Qw0o-M"
   }
  },
  {
   "cell_type": "code",
   "source": [
    "if torch.cuda.is_available():\n",
    "  device = torch.device('cuda')\n",
    "else:\n",
    "  device = torch.device('cpu')\n",
    "print(device)"
   ],
   "metadata": {
    "id": "z44L854rlzgv"
   },
   "outputs": [],
   "execution_count": null
  },
  {
   "cell_type": "markdown",
   "source": [
    "If there is such a device available, then we can load the tensors on it, with the [`torch.Tensor.to()`](https://pytorch.org/docs/stable/generated/torch.Tensor.to.html) method."
   ],
   "metadata": {
    "id": "Oxk6FNx_24sw"
   }
  },
  {
   "cell_type": "code",
   "source": [
    "tensor1 = tensor1.to(device)\n",
    "tensor2 = tensor2.to(device)"
   ],
   "metadata": {
    "id": "GsOe5tJmksJY"
   },
   "outputs": [],
   "execution_count": null
  },
  {
   "cell_type": "markdown",
   "source": [
    "And then we re-run the multiplication, only that this time it will be done on the GPU, instead of the CPU."
   ],
   "metadata": {
    "id": "ZNfNNQn33Qcg"
   }
  },
  {
   "cell_type": "code",
   "source": [
    "res_tensor = torch.matmul(tensor1, tensor2)"
   ],
   "metadata": {
    "id": "acT989b8oARa"
   },
   "outputs": [],
   "execution_count": null
  },
  {
   "cell_type": "markdown",
   "source": [
    "Well, the difference is not spectacular at all, but that is due to the very small size of the arrays. We have to pump those numbers up! Those are rookie numbers.\n",
    "\n",
    "So we will re-run the above operations, but on a larger scale. Switch `array_size` to 100 x 100 x 100 x 100 and see what the GPU does now."
   ],
   "metadata": {
    "id": "l6braDBk3iEz"
   }
  },
  {
   "cell_type": "code",
   "source": [
    "array_size = (100, 100, 100, 100)\n",
    "array1 = np.float32(np.random.rand(*array_size))\n",
    "array2 = np.float32(np.random.rand(*array_size))\n",
    "tensor1 = torch.rand(*array_size).to(device)\n",
    "tensor2 = torch.rand(*array_size).to(device)"
   ],
   "metadata": {
    "id": "GiSu3Gl2pcOh"
   },
   "outputs": [],
   "execution_count": null
  },
  {
   "cell_type": "code",
   "source": [
    "res_np = np.matmul(array1, array2)"
   ],
   "metadata": {
    "id": "sIm5FCbupd2R"
   },
   "outputs": [],
   "execution_count": null
  },
  {
   "cell_type": "code",
   "source": [
    "res_tensor = torch.matmul(tensor1, tensor2)"
   ],
   "metadata": {
    "id": "I547_wTAqgwB"
   },
   "outputs": [],
   "execution_count": null
  },
  {
   "cell_type": "markdown",
   "source": [
    "In order to extract numeric values from the tensor and use them as Python numbers, we have several options:\n",
    "- index the tensor and then call [`torch.Tensor.item()`](https://pytorch.org/docs/stable/generated/torch.Tensor.item.html) on a single value;\n",
    "- convert the tensor to a list [`torch.Tensor.tolist()`](https://pytorch.org/docs/stable/generated/torch.Tensor.tolist.html#torch.Tensor.tolist) and treat it as a Python list;\n",
    "- convert the tensor to a np array [`torch.Tensor.numpy()`]() and treat it as a np array - this step needs the tensor to be transfered back on CPU before-hand with: `torch.Tensor.cpu()`."
   ],
   "metadata": {
    "id": "BMtEj9lj-2M3"
   }
  },
  {
   "cell_type": "code",
   "source": [
    "x = res_tensor.cpu().numpy()\n",
    "print(x[0][0])"
   ],
   "metadata": {
    "id": "oVfJ4MdA-428"
   },
   "outputs": [],
   "execution_count": null
  }
 ]
}
