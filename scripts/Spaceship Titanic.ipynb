{
 "cells": [
  {
   "cell_type": "code",
   "id": "initial_id",
   "metadata": {
    "collapsed": true
   },
   "source": [
    "import torch\n",
    "import pandas as pd\n",
    "from sklearn.preprocessing import LabelEncoder\n",
    "from sklearn.model_selection import train_test_split\n",
    "from torcheval.metrics import BinaryAccuracy"
   ],
   "outputs": [],
   "execution_count": null
  },
  {
   "metadata": {},
   "cell_type": "code",
   "source": [
    "# Read the data\n",
    "train_df = pd.read_csv('data/train.csv')\n",
    "test_df = pd.read_csv('data/test.csv')"
   ],
   "id": "e713d517910e65c7",
   "outputs": [],
   "execution_count": null
  },
  {
   "metadata": {},
   "cell_type": "code",
   "source": "train_df",
   "id": "79cf2f699f414175",
   "outputs": [],
   "execution_count": null
  },
  {
   "metadata": {},
   "cell_type": "markdown",
   "source": "We need to check the data",
   "id": "cd3e9e63cb62bad4"
  },
  {
   "metadata": {},
   "cell_type": "code",
   "source": [
    "# First glimpse of the data\n",
    "print(train_df.head())"
   ],
   "id": "44711828e72faab9",
   "outputs": [],
   "execution_count": null
  },
  {
   "metadata": {},
   "cell_type": "code",
   "source": [
    "# Check for columns with numerical values\n",
    "print(train_df.describe())"
   ],
   "id": "b27f6c316c2488d0",
   "outputs": [],
   "execution_count": null
  },
  {
   "metadata": {},
   "cell_type": "code",
   "source": [
    "# Check for NaN, nan, inf values\n",
    "test_df.isna().sum()"
   ],
   "id": "f86672ee64341a63",
   "outputs": [],
   "execution_count": null
  },
  {
   "metadata": {},
   "cell_type": "code",
   "source": [
    "# Print how many different entries we have per category of non-numerical features\n",
    "categories = ['PassengerId', 'CryoSleep', 'Cabin', 'HomePlanet', 'Destination', 'Name', 'Transported']\n",
    "for category in categories:\n",
    "    a = train_df[category].unique()\n",
    "    print(category, a)\n",
    "    print(len(a))"
   ],
   "id": "d5591830f23c353c",
   "outputs": [],
   "execution_count": null
  },
  {
   "metadata": {},
   "cell_type": "code",
   "source": [
    "# Split the 'Cabin' category into its components\n",
    "train_df[['deck', 'num', 'side']] = train_df['Cabin'].str.split('/',expand=True)\n",
    "train_df = train_df.drop(['Cabin'], axis=1)\n",
    "\n",
    "test_df[['deck', 'num', 'side']] = test_df['Cabin'].str.split('/',expand=True)\n",
    "test_df = test_df.drop(['Cabin'], axis=1)"
   ],
   "id": "5771dc2fa1b40b15",
   "outputs": [],
   "execution_count": null
  },
  {
   "metadata": {},
   "cell_type": "code",
   "source": [
    "# Function to complete missing values with adequate attributes\n",
    "def fill_missing_values(df):\n",
    "    df['HomePlanet'] = df['HomePlanet'].fillna('Earth')\n",
    "    df['CryoSleep'] = df['CryoSleep'].astype(bool).fillna(False)\n",
    "    df['deck'] = df['deck'].fillna('Unknown')\n",
    "    df['num'] = df['num'].fillna('Unknown')\n",
    "    df['side'] = df['side'].fillna('Unknown')\n",
    "    df['Destination'] = df['Destination'].fillna('TRAPPIST-1e')\n",
    "    df['Age'] = df['Age'].fillna(df['Age'].median())\n",
    "    df['VIP'] = df['VIP'].astype(bool).fillna(False)\n",
    "    df = df.fillna(0)\n",
    "    return df"
   ],
   "id": "24d872d498d35935",
   "outputs": [],
   "execution_count": null
  },
  {
   "metadata": {},
   "cell_type": "code",
   "source": [
    "# Apply missing values filling function on both train and test dataframes\n",
    "train_df = fill_missing_values(train_df)\n",
    "test_df = fill_missing_values(test_df)"
   ],
   "id": "cb876d57d0ed901f",
   "outputs": [],
   "execution_count": null
  },
  {
   "metadata": {},
   "cell_type": "markdown",
   "source": [
    "Neural nets can only process numerical data, but there are several columns that contain categorical data.\n",
    "\n",
    "We will create a mapping between categorical data and its index in a sorted array composed of unique values from the respective category."
   ],
   "id": "251d0ca9db5a214f"
  },
  {
   "metadata": {},
   "cell_type": "code",
   "source": [
    "# Generate encoders for each non-numerical category\n",
    "# We need to keep the same mapping for both train and test dataframes\n",
    "# Therefore, we first merge the non-numerical categories together and only after generate the corresponding LabelEncoder functions\n",
    "label_cols = ['HomePlanet', 'CryoSleep', 'deck', 'num', 'side', 'Destination', 'VIP']\n",
    "combined_data = pd.concat([train_df[label_cols], test_df[label_cols]], axis=0)\n",
    "label_encoders = {col: LabelEncoder().fit(combined_data[col]) for col in label_cols}"
   ],
   "id": "ad559d973e6de673",
   "outputs": [],
   "execution_count": null
  },
  {
   "metadata": {},
   "cell_type": "code",
   "source": [
    "# Apply the label encoder functions on both train and test df\n",
    "for col, le in label_encoders.items():\n",
    "    train_df[col] = le.transform(train_df[col])\n",
    "    test_df[col] = le.transform(test_df[col])"
   ],
   "id": "fcfe384a53092117",
   "outputs": [],
   "execution_count": null
  },
  {
   "metadata": {},
   "cell_type": "code",
   "source": "train_df",
   "id": "22ab950189cba1a6",
   "outputs": [],
   "execution_count": null
  },
  {
   "metadata": {},
   "cell_type": "code",
   "source": [
    "# Remove unnecessary data (Name and PassengerId) from the train dataset\n",
    "# We also need to remove the labels, since these are the values that we want to predict.\n",
    "X_train = train_df.drop(['PassengerId', 'Name', 'Transported'], axis=1)\n",
    "# Create a target/label dataframe consisting of only the Transported column\n",
    "Y_train = train_df['Transported'].astype(int)\n",
    "# Apply same reasoning for the test dataset\n",
    "# Note: the test dataset does not contain labels, since these are exactly the ones that we will try to predict\n",
    "x_test = test_df.drop(['PassengerId', 'Name'], axis=1).to_numpy()"
   ],
   "id": "713a8c02cd863442",
   "outputs": [],
   "execution_count": null
  },
  {
   "metadata": {},
   "cell_type": "code",
   "source": [
    "# Split the training data into train and val subsets that we will use to optimize our model\n",
    "x_train, x_val, y_train, y_val = train_test_split(X_train.to_numpy(), Y_train.to_numpy(), test_size=0.2, random_state=42)"
   ],
   "id": "ae0e8d664bc61852",
   "outputs": [],
   "execution_count": null
  },
  {
   "metadata": {},
   "cell_type": "code",
   "source": [
    "# We will design a 3-layer neural net - we need to determine the dimensions of the input, hidden and output layers\n",
    "input_size = x_train.shape[1] # input layer is directly linked to the dimension of the data\n",
    "hidden_size = 5 # hidden layer size is arbitrary - we can customize it as we want\n",
    "output_size = 1 # output layer size is directly linked to the number of classes we try to predict; True/False means that we can use a single output value"
   ],
   "id": "b38f78ccecd48ff0",
   "outputs": [],
   "execution_count": null
  },
  {
   "metadata": {},
   "cell_type": "code",
   "source": [
    "# Generate the neural net model\n",
    "model = torch.nn.Sequential(\n",
    "    torch.nn.Linear(input_size, hidden_size),\n",
    "    torch.nn.Sigmoid(),\n",
    "    torch.nn.Linear(hidden_size, output_size),\n",
    "    torch.nn.Sigmoid()\n",
    ")"
   ],
   "id": "b458e3e79b549abc",
   "outputs": [],
   "execution_count": null
  },
  {
   "metadata": {},
   "cell_type": "code",
   "source": [
    "# Setup loss function, metric and optimizer\n",
    "loss_func = torch.nn.BCELoss() #Choosing binary cross-entropy as loss metric\n",
    "learning_rate = 0.01\n",
    "optimizer = torch.optim.SGD(model.parameters(), lr=learning_rate)\n",
    "metric = BinaryAccuracy()"
   ],
   "id": "49df28c35e51b51d",
   "outputs": [],
   "execution_count": null
  },
  {
   "metadata": {},
   "cell_type": "code",
   "source": [
    "# Actual training loop\n",
    "for itr in range(5000):\n",
    "    # Set the model in training mode\n",
    "    model.train()\n",
    "    # Forward propagate the training input through the entire netwrok\n",
    "    out = model(torch.from_numpy(x_train).type(torch.FloatTensor)).squeeze()\n",
    "    # Compute loss function\n",
    "    loss = loss_func(out, torch.tensor(y_train, dtype=torch.float32))\n",
    "    # Reset previously memorized gradients (by default, they accumulate for every iteration)\n",
    "    optimizer.zero_grad()\n",
    "    # Compute the gradients\n",
    "    loss.backward()\n",
    "    # Perform optimization step - update the weights according to the computed gradients\n",
    "    optimizer.step()\n",
    "\n",
    "    # Once every 100 iterations run a testing step to see how our model performs\n",
    "    if itr % 100 == 0:\n",
    "        # Set the model in testing mode\n",
    "        model.eval()\n",
    "        # Forward propagate the testing input the entire netwrok\n",
    "        out = model(torch.from_numpy(x_val).type(torch.FloatTensor)).squeeze()\n",
    "        # Compute the loss and metric just for information\n",
    "        loss = loss_func(out, torch.tensor(y_val, dtype=torch.float32))\n",
    "        metric.update(out, torch.tensor(y_val))\n",
    "        print(metric.compute())\n",
    "        print(loss)\n"
   ],
   "id": "dc3453c8d57f195f",
   "outputs": [],
   "execution_count": null
  },
  {
   "metadata": {},
   "cell_type": "code",
   "source": "metric.compute()",
   "id": "605bf6a9a8957a86",
   "outputs": [],
   "execution_count": null
  }
 ],
 "metadata": {
  "kernelspec": {
   "display_name": "Python 3",
   "language": "python",
   "name": "python3"
  },
  "language_info": {
   "codemirror_mode": {
    "name": "ipython",
    "version": 2
   },
   "file_extension": ".py",
   "mimetype": "text/x-python",
   "name": "python",
   "nbconvert_exporter": "python",
   "pygments_lexer": "ipython2",
   "version": "2.7.6"
  }
 },
 "nbformat": 4,
 "nbformat_minor": 5
}
