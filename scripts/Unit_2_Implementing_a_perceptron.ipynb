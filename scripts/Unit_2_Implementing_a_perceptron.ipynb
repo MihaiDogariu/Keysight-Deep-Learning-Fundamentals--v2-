{
  "nbformat": 4,
  "nbformat_minor": 0,
  "metadata": {
    "colab": {
      "provenance": [],
      "include_colab_link": true
    },
    "kernelspec": {
      "name": "python3",
      "display_name": "Python 3 (ipykernel)",
      "language": "python"
    },
    "language_info": {
      "name": "python"
    }
  },
  "cells": [
    {
      "cell_type": "markdown",
      "metadata": {
        "id": "view-in-github",
        "colab_type": "text"
      },
      "source": [
        "<a href=\"https://colab.research.google.com/github/MihaiDogariu/Keysight-Deep-Learning-Fundamentals--v2-/blob/main/scripts/Unit_2_Implementing_a_perceptron.ipynb\" target=\"_parent\"><img src=\"https://colab.research.google.com/assets/colab-badge.svg\" alt=\"Open In Colab\"/></a>"
      ]
    },
    {
      "cell_type": "markdown",
      "source": [
        "# Implementing a perceptron\n",
        "\n",
        "This notebook makes a brief introduction of the process behind learning a perceptron. We will make it learn some basic mathematical logic functions such as AND, OR, etc."
      ],
      "metadata": {
        "id": "QGxp4xMkJq5-"
      }
    },
    {
      "cell_type": "code",
      "metadata": {
        "id": "S84icn-I3bfZ",
        "ExecuteTime": {
          "end_time": "2025-03-24T22:30:26.035995Z",
          "start_time": "2025-03-24T22:30:26.020255Z"
        }
      },
      "source": [
        "import numpy as np"
      ],
      "outputs": [],
      "execution_count": null
    },
    {
      "cell_type": "markdown",
      "source": [
        "First, let's define our data. We will need all possible combinations of data that the function can cover. Let's start with OR. There are 4 possibilities:\n",
        "- 0 OR 0 => 0\n",
        "- 0 OR 1 => 1\n",
        "- 1 OR 0 => 1\n",
        "- 1 OR 1 => 1\n",
        "\n",
        "The data on the left-hand side of '=>' is the input to the perceptron ($x_1, x_2$), whereas the output/label resides on the right-hand side."
      ],
      "metadata": {
        "id": "K-wqwouVJTAk"
      }
    },
    {
      "cell_type": "code",
      "source": [
        "input = np.array([(0, 0), (0, 1), (1, 0), (1, 1)])\n",
        "print(input.shape)\n",
        "labels = np.array([0, 1, 1, 1])\n",
        "print(labels.shape)"
      ],
      "metadata": {
        "id": "TlfDFAD7J_mj",
        "ExecuteTime": {
          "end_time": "2025-03-24T22:30:26.099208Z",
          "start_time": "2025-03-24T22:30:26.083663Z"
        },
        "outputId": "b570c93b-35ea-4c6c-8d53-647d4e9a5a39"
      },
      "outputs": [
        {
          "name": "stdout",
          "output_type": "stream",
          "text": [
            "(4, 2)\n",
            "(4,)\n"
          ]
        }
      ],
      "execution_count": null
    },
    {
      "cell_type": "markdown",
      "source": [
        "Let us also build the weights of the perceptron. Since each input is 2-dimensional, we will need 2 weights to accomodate them, and another one to attach to the bias term => a 1 by 3 random vector (use `np.random.rand()`)."
      ],
      "metadata": {
        "id": "HpkyplpuKV-d"
      }
    },
    {
      "cell_type": "code",
      "source": [
        "weights = np.random.rand(1,3)\n",
        "print(weights.shape)"
      ],
      "metadata": {
        "id": "Biti8cvqKVXI",
        "ExecuteTime": {
          "end_time": "2025-03-24T22:30:26.131217Z",
          "start_time": "2025-03-24T22:30:26.099208Z"
        },
        "outputId": "60c383c9-dfb3-4aaf-d057-f0c6bd6cc8af"
      },
      "outputs": [
        {
          "name": "stdout",
          "output_type": "stream",
          "text": [
            "(1, 3)\n"
          ]
        }
      ],
      "execution_count": null
    },
    {
      "cell_type": "markdown",
      "source": [
        "In order to form the input to the perceptron, we also need to concatenate $x_0=1$ at the start of the input vector, so we will define a function that does exactly that using the [`np.concatenate()`](https://numpy.org/doc/stable/reference/generated/numpy.concatenate.html) function."
      ],
      "metadata": {
        "id": "ZhDG2vJqMIQU"
      }
    },
    {
      "cell_type": "code",
      "source": [
        "def form(x):\n",
        "  return np.concatenate(([1], x))"
      ],
      "metadata": {
        "id": "TaXkdFjL-MT7",
        "ExecuteTime": {
          "end_time": "2025-03-24T22:30:26.163276Z",
          "start_time": "2025-03-24T22:30:26.147151Z"
        }
      },
      "outputs": [],
      "execution_count": null
    },
    {
      "cell_type": "markdown",
      "source": [
        "Then, we need to define the activation function, which for a perceptron is a thresholding function, named Heaviside."
      ],
      "metadata": {
        "id": "K2sJi8-YMt9D"
      }
    },
    {
      "cell_type": "code",
      "source": [
        "def heaviside(x):\n",
        "  if x>=0:\n",
        "    return 1\n",
        "  else:\n",
        "    return 0"
      ],
      "metadata": {
        "id": "DMnvRnF868r-",
        "ExecuteTime": {
          "end_time": "2025-03-24T22:30:26.204194Z",
          "start_time": "2025-03-24T22:30:26.191346Z"
        }
      },
      "outputs": [],
      "execution_count": null
    },
    {
      "cell_type": "markdown",
      "source": [
        "Running the forward operation on the network means that we will apply the activation function on the sum ([`np.sum()`](https://numpy.org/doc/stable/reference/generated/numpy.sum.html)) of the product between $x$ and $w$."
      ],
      "metadata": {
        "id": "GC6DhctpM5o2"
      }
    },
    {
      "cell_type": "code",
      "source": [
        "def forward(x, w):\n",
        "  return heaviside(np.sum(x * w))"
      ],
      "metadata": {
        "id": "Fot5K4lz7JzA",
        "ExecuteTime": {
          "end_time": "2025-03-24T22:30:26.236973Z",
          "start_time": "2025-03-24T22:30:26.224490Z"
        }
      },
      "outputs": [],
      "execution_count": null
    },
    {
      "cell_type": "markdown",
      "source": [
        "We need to run the weights update algorithm several times. It is impossible to know the exact number of times beforehand so we will run it until there will be no change in the weights variable."
      ],
      "metadata": {
        "id": "zaRmfr4-NPZj"
      }
    },
    {
      "cell_type": "code",
      "source": [
        "num_epochs=100\n",
        "lr = 0.01\n",
        "\n",
        "for i in range(num_epochs):\n",
        "  weights_epoch_start = weights\n",
        "  for (in_vec, label) in zip(input, labels):\n",
        "    data = form(in_vec)\n",
        "    output = forward(data, weights)\n",
        "    weights = weights + lr*(label-output)*data\n",
        "  if np.array_equal(weights_epoch_start, weights):\n",
        "    print(\"No change in weights during epoch {}. Ending training.\".format(i))\n",
        "    break"
      ],
      "metadata": {
        "id": "4WyEPVUzOaUR",
        "ExecuteTime": {
          "end_time": "2025-03-24T22:30:26.277239Z",
          "start_time": "2025-03-24T22:30:26.261399Z"
        },
        "outputId": "740992b2-5ccc-4a93-fd06-86c3cb99c1b6"
      },
      "outputs": [
        {
          "name": "stdout",
          "output_type": "stream",
          "text": [
            "No change in weights during epoch 39. Ending training.\n"
          ]
        }
      ],
      "execution_count": null
    },
    {
      "cell_type": "code",
      "source": [
        "forward([1, 0, 1], weights)"
      ],
      "metadata": {
        "id": "i8GvJv8XWhIQ",
        "ExecuteTime": {
          "end_time": "2025-03-24T22:30:26.353672Z",
          "start_time": "2025-03-24T22:30:26.337820Z"
        },
        "outputId": "65c01e25-bd21-4685-854c-634b03105bfb"
      },
      "outputs": [
        {
          "data": {
            "text/plain": [
              "1"
            ]
          },
          "execution_count": 96,
          "metadata": {},
          "output_type": "execute_result"
        }
      ],
      "execution_count": null
    }
  ]
}